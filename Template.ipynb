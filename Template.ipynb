{
 "cells": [
  {
   "cell_type": "markdown",
   "id": "7066c7af",
   "metadata": {},
   "source": [
    "## # Setp 0: Import Libraries"
   ]
  },
  {
   "cell_type": "code",
   "execution_count": null,
   "id": "aa9874a0",
   "metadata": {},
   "outputs": [],
   "source": []
  },
  {
   "cell_type": "markdown",
   "id": "96d05b81",
   "metadata": {},
   "source": [
    "## # setp 1: Load Dataset"
   ]
  },
  {
   "cell_type": "code",
   "execution_count": null,
   "id": "c8515540",
   "metadata": {},
   "outputs": [],
   "source": []
  },
  {
   "cell_type": "markdown",
   "id": "e50864dd",
   "metadata": {},
   "source": [
    "## # Setp 2: Claen Dataset\n",
    "#####          2.1: Column\n",
    "####          2.2: Row"
   ]
  },
  {
   "cell_type": "code",
   "execution_count": null,
   "id": "d3f00609",
   "metadata": {},
   "outputs": [],
   "source": []
  }
 ],
 "metadata": {
  "kernelspec": {
   "display_name": "Python 3",
   "language": "python",
   "name": "python3"
  },
  "language_info": {
   "codemirror_mode": {
    "name": "ipython",
    "version": 3
   },
   "file_extension": ".py",
   "mimetype": "text/x-python",
   "name": "python",
   "nbconvert_exporter": "python",
   "pygments_lexer": "ipython3",
   "version": "3.8.8"
  }
 },
 "nbformat": 4,
 "nbformat_minor": 5
}
